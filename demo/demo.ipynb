{
 "cells": [
  {
   "cell_type": "markdown",
   "id": "61221361-799d-418a-a118-407e72283a2d",
   "metadata": {},
   "source": [
    "# 初始化"
   ]
  },
  {
   "cell_type": "code",
   "execution_count": 1,
   "id": "46fa4fcb-90e1-49d1-83c2-9fc0fbe7cc1e",
   "metadata": {},
   "outputs": [
    {
     "name": "stdout",
     "output_type": "stream",
     "text": [
      "Do not use URL connection as JarURLConnection\n",
      "Do not use URL connection as JarURLConnection\n",
      "Do not use URL connection as JarURLConnection\n",
      "Do not use URL connection as JarURLConnection\n",
      "Do not use URL connection as JarURLConnection\n",
      "succ\n"
     ]
    }
   ],
   "source": [
    "import cn.hylstudio.skykoma.plugin.idea.util.*\n",
    "println(\"succ\")"
   ]
  },
  {
   "cell_type": "markdown",
   "id": "bb55b0ae-365d-49cc-a43b-31b3e91ebad7",
   "metadata": {},
   "source": [
    "# 项目操作"
   ]
  },
  {
   "cell_type": "code",
   "execution_count": 7,
   "id": "19e178a7-ab22-4613-b3f0-4466e04f3416",
   "metadata": {
    "editable": true,
    "scrolled": true,
    "slideshow": {
     "slide_type": ""
    },
    "tags": []
   },
   "outputs": [
    {
     "data": {
      "text/plain": [
       "[Project(name=realworld-mdd, containerState=COMPONENT_CREATED, componentStore=D:\\code\\realworld-mdd)]"
      ]
     },
     "execution_count": 7,
     "metadata": {},
     "output_type": "execute_result"
    }
   ],
   "source": [
    "getOpenedProjects()"
   ]
  },
  {
   "cell_type": "code",
   "execution_count": 2,
   "id": "a50bb959",
   "metadata": {},
   "outputs": [
    {
     "data": {
      "text/plain": [
       "Project(name=realworld-mdd, containerState=COMPONENT_CREATED, componentStore=D:\\code\\realworld-mdd)"
      ]
     },
     "execution_count": 2,
     "metadata": {},
     "output_type": "execute_result"
    }
   ],
   "source": [
    "openProjectByFolder(\"D:/code/realworld-mdd\")"
   ]
  },
  {
   "cell_type": "code",
   "execution_count": 2,
   "id": "a50c007f-51c4-4f4d-9e77-b15b74d2dd62",
   "metadata": {},
   "outputs": [
    {
     "data": {
      "text/plain": [
       "Project(name=realworld-mdd, containerState=COMPONENT_CREATED, componentStore=D:\\code\\realworld-mdd)"
      ]
     },
     "execution_count": 2,
     "metadata": {},
     "output_type": "execute_result"
    }
   ],
   "source": [
    "var project = getCurrentProject()\n",
    "project"
   ]
  },
  {
   "cell_type": "code",
   "execution_count": 6,
   "id": "73a556c0-b5de-48d2-8efc-3d568f21a0f6",
   "metadata": {},
   "outputs": [
    {
     "data": {
      "text/plain": [
       "null"
      ]
     },
     "execution_count": 6,
     "metadata": {},
     "output_type": "execute_result"
    }
   ],
   "source": [
    "filterProjectByName(\"skykoma-plugin-idea\")"
   ]
  },
  {
   "cell_type": "code",
   "execution_count": 21,
   "id": "d41325d3-21ae-4766-ad1e-57585b86a3fd",
   "metadata": {},
   "outputs": [],
   "source": [
    "filterProjectByName(\"skykoma-plugin-idea\")?.requestFocus()"
   ]
  },
  {
   "cell_type": "code",
   "execution_count": 4,
   "id": "c4811171-abf5-4e68-b7c6-330ee2daac58",
   "metadata": {},
   "outputs": [
    {
     "name": "stdout",
     "output_type": "stream",
     "text": [
      "projectName:realworld-mdd, basePath:D:/code/realworld-mdd, projectDirName:realworld-mdd\n",
      "currentBranch:master, currentHash:fb5a492e25aeaac933e822beeb21dbf897dcaefa\n",
      "projectSdk:d:/lib/jdk-17\n",
      "\n"
     ]
    }
   ],
   "source": [
    "getCurrentProject()?.printInfo()"
   ]
  },
  {
   "cell_type": "markdown",
   "id": "b519a786-d6f1-493c-969f-fb1f00604597",
   "metadata": {},
   "source": [
    "# SDK和maven操作"
   ]
  },
  {
   "cell_type": "code",
   "execution_count": 4,
   "id": "dfb0a2cd",
   "metadata": {},
   "outputs": [],
   "source": [
    "project?.updateJdk(\"d:/lib/jdk-17\")"
   ]
  },
  {
   "cell_type": "code",
   "execution_count": 5,
   "id": "53429981",
   "metadata": {},
   "outputs": [],
   "source": [
    "project?.mavenReImport()"
   ]
  },
  {
   "cell_type": "markdown",
   "id": "480622ef-cb72-46a7-8f69-274546fa0111",
   "metadata": {},
   "source": [
    "# git操作"
   ]
  },
  {
   "cell_type": "code",
   "execution_count": 3,
   "id": "82853b9d-ed35-4908-afc4-01a78ddb2aa7",
   "metadata": {
    "scrolled": true
   },
   "outputs": [
    {
     "data": {
      "text/plain": [
       "[D:\\code\\realworld-mdd]"
      ]
     },
     "execution_count": 3,
     "metadata": {},
     "output_type": "execute_result"
    }
   ],
   "source": [
    "var repos = project.repositoryManager.repositories\n",
    "repos"
   ]
  },
  {
   "cell_type": "code",
   "execution_count": 4,
   "id": "07780cf8-34a5-4057-b70f-98b6c4ae1071",
   "metadata": {},
   "outputs": [
    {
     "data": {
      "text/plain": [
       "GitRepoInfo{current=refs/heads/dev, remotes=[GitRemote{myName='origin', myUrls=[https://github.com/956237586/realworld-mdd.git], myPushUrls=[https://github.com/956237586/realworld-mdd.git], myFetchRefSpec='[+refs/heads/*:refs/remotes/origin/*]', myPushRefSpec='[]'}], localBranches={refs/heads/dev=fb5a492e25aeaac933e822beeb21dbf897dcaefa, refs/heads/master=fb5a492e25aeaac933e822beeb21dbf897dcaefa}, remoteBranches={refs/remotes/origin/master=fb5a492e25aeaac933e822beeb21dbf897dcaefa, refs/remotes/origin/dev=fb5a492e25aeaac933e822beeb21dbf897dcaefa}, trackInfos=[master->origin/master, dev->origin/dev], submodules=[], hooks=GitHooksInfo(areCommitHooksAvailable=false, isPrePushHookAvailable=false)}"
      ]
     },
     "execution_count": 4,
     "metadata": {},
     "output_type": "execute_result"
    }
   ],
   "source": [
    "var repo = repos[0]\n",
    "\n",
    "repo.info"
   ]
  },
  {
   "cell_type": "code",
   "execution_count": 5,
   "id": "d8f359d3-2877-4238-afc4-421ef9987a95",
   "metadata": {},
   "outputs": [
    {
     "data": {
      "text/plain": [
       "git4idea.branch.GitBranchesCollection@263e660d"
      ]
     },
     "execution_count": 5,
     "metadata": {},
     "output_type": "execute_result"
    }
   ],
   "source": [
    "repo.branches"
   ]
  },
  {
   "cell_type": "code",
   "execution_count": 5,
   "id": "5343523c-b1e0-40ad-a6e7-d710cdfe34ea",
   "metadata": {},
   "outputs": [
    {
     "data": {
      "text/plain": [
       "[refs/heads/dev, refs/heads/master]"
      ]
     },
     "execution_count": 5,
     "metadata": {},
     "output_type": "execute_result"
    }
   ],
   "source": [
    "repo.branches.localBranchesList"
   ]
  },
  {
   "cell_type": "code",
   "execution_count": 5,
   "id": "f7956694-9aa6-417b-9c37-1a592c93b741",
   "metadata": {},
   "outputs": [
    {
     "data": {
      "text/plain": [
       "[refs/remotes/origin/master, refs/remotes/origin/dev]"
      ]
     },
     "execution_count": 5,
     "metadata": {},
     "output_type": "execute_result"
    }
   ],
   "source": [
    "repo.branches.remoteBranchesList"
   ]
  },
  {
   "cell_type": "code",
   "execution_count": 6,
   "id": "2a87b0cc-8b30-455f-acbc-1ca97c87ef55",
   "metadata": {},
   "outputs": [
    {
     "data": {
      "text/plain": [
       "refs/remotes/origin/master"
      ]
     },
     "execution_count": 6,
     "metadata": {},
     "output_type": "execute_result"
    }
   ],
   "source": [
    "val master = repo.branches.remoteBranchesList[0]\n",
    "master"
   ]
  },
  {
   "cell_type": "code",
   "execution_count": 7,
   "id": "e3989c50-53d8-46e6-bc91-c9353a37d099",
   "metadata": {},
   "outputs": [
    {
     "data": {
      "text/plain": [
       "refs/remotes/origin/dev"
      ]
     },
     "execution_count": 7,
     "metadata": {},
     "output_type": "execute_result"
    }
   ],
   "source": [
    "val dev = repo.branches.remoteBranchesList[1]\n",
    "dev"
   ]
  },
  {
   "cell_type": "code",
   "execution_count": 8,
   "id": "970882e0-2d28-46ac-ab98-43d54a923db8",
   "metadata": {},
   "outputs": [
    {
     "data": {
      "text/plain": [
       "dev"
      ]
     },
     "execution_count": 8,
     "metadata": {},
     "output_type": "execute_result"
    }
   ],
   "source": [
    "dev.nameForRemoteOperations"
   ]
  },
  {
   "cell_type": "code",
   "execution_count": 9,
   "id": "5ca7e7b5-b6b7-4f45-a3b6-9ef5c331d744",
   "metadata": {
    "scrolled": true
   },
   "outputs": [
    {
     "data": {
      "text/plain": [
       "origin/dev"
      ]
     },
     "execution_count": 9,
     "metadata": {},
     "output_type": "execute_result"
    }
   ],
   "source": [
    "dev.nameForLocalOperations"
   ]
  },
  {
   "cell_type": "code",
   "execution_count": 15,
   "id": "bde4187d-f901-4955-af26-25f0cfd69c09",
   "metadata": {
    "scrolled": true
   },
   "outputs": [],
   "source": [
    "master.forceCheckout()"
   ]
  },
  {
   "cell_type": "code",
   "execution_count": 16,
   "id": "0d8e2935-fa38-4b8d-a10f-fa5f609da059",
   "metadata": {},
   "outputs": [],
   "source": [
    "dev.forceCheckout()"
   ]
  },
  {
   "cell_type": "code",
   "execution_count": 24,
   "id": "328ccf96-f57a-4454-b2fe-b294cd9bddd0",
   "metadata": {},
   "outputs": [
    {
     "data": {
      "text/plain": [
       "(On branch dev, )"
      ]
     },
     "execution_count": 24,
     "metadata": {},
     "output_type": "execute_result"
    }
   ],
   "source": [
    "execCmd(\"git -C ${project.basePath} status\")"
   ]
  },
  {
   "cell_type": "code",
   "execution_count": 25,
   "id": "a58173e8-4e40-4506-b076-a558817e0958",
   "metadata": {},
   "outputs": [
    {
     "data": {
      "text/plain": [
       "(Your branch is up to date with 'origin/master'., Switched to branch 'master')"
      ]
     },
     "execution_count": 25,
     "metadata": {},
     "output_type": "execute_result"
    }
   ],
   "source": [
    "execCmd(\"git -C ${project.basePath} checkout master\")"
   ]
  },
  {
   "cell_type": "markdown",
   "id": "717ae63e-f004-4f85-a02e-8560332d9c52",
   "metadata": {},
   "source": [
    "# module操作"
   ]
  },
  {
   "cell_type": "code",
   "execution_count": 9,
   "id": "1d77ec3f-2d57-4624-a123-fbd3eddd4df9",
   "metadata": {},
   "outputs": [
    {
     "data": {
      "text/plain": [
       "com.intellij.workspaceModel.ide.impl.legacyBridge.module.ModuleManagerComponentBridge@5295697f"
      ]
     },
     "execution_count": 9,
     "metadata": {},
     "output_type": "execute_result"
    }
   ],
   "source": [
    "getCurrentProject()?.moduleManager"
   ]
  },
  {
   "cell_type": "code",
   "execution_count": 11,
   "id": "76f7d3d7-b927-46dd-8b1e-63bfcfb70359",
   "metadata": {},
   "outputs": [
    {
     "data": {
      "text/plain": [
       "[Module: 'realworld']"
      ]
     },
     "execution_count": 11,
     "metadata": {},
     "output_type": "execute_result"
    }
   ],
   "source": [
    "getCurrentProject()?.modules"
   ]
  },
  {
   "cell_type": "code",
   "execution_count": 15,
   "id": "25955748-8bb6-4934-9cb8-915d7b2ae943",
   "metadata": {},
   "outputs": [
    {
     "name": "stdout",
     "output_type": "stream",
     "text": [
      "moduleName:realworld\n",
      "sourceRoots:[file://D:/code/realworld-mdd/src/main/java],testSrcRoots:[file://D:/code/realworld-mdd/src/test/java],resourceRoots:[file://D:/code/realworld-mdd/src/main/resources],testResourceRoots:[]\n"
     ]
    }
   ],
   "source": [
    "getCurrentProject()?.modules!![0].printInfo()"
   ]
  },
  {
   "cell_type": "markdown",
   "id": "8b7b915c-5670-4a78-a05f-66c5ec2eed9c",
   "metadata": {},
   "source": [
    "# 文件操作"
   ]
  },
  {
   "cell_type": "code",
   "execution_count": 12,
   "id": "080c7c82-f7ce-421c-9656-066a0ec32b29",
   "metadata": {},
   "outputs": [
    {
     "name": "stdout",
     "output_type": "stream",
     "text": [
      "file://D:/code/realworld-mdd/src/main/java/cn/hylstudio/mdse/demo/realworld/repo/mysql/RealWorldUserRepo.java\n",
      "file://D:/code/realworld-mdd/src/main/java/cn/hylstudio/mdse/demo/realworld/util/ValueUtils.java\n",
      "file://D:/code/realworld-mdd/src/main/java/cn/hylstudio/mdse/demo/realworld/model/request/user/UserLoginRequestDto.java\n",
      "file://D:/code/realworld-mdd/src/main/java/cn/hylstudio/mdse/demo/realworld/model/request/user/UserLoginRequestPayload.java\n",
      "file://D:/code/realworld-mdd/src/main/java/cn/hylstudio/mdse/demo/realworld/model/request/RequestPayload.java\n",
      "file://D:/code/realworld-mdd/src/main/java/cn/hylstudio/mdse/demo/realworld/model/response/user/UserLoginResponseResult.java\n",
      "file://D:/code/realworld-mdd/src/main/java/cn/hylstudio/mdse/demo/realworld/model/response/user/UserLoginResponsePayload.java\n",
      "file://D:/code/realworld-mdd/src/main/java/cn/hylstudio/mdse/demo/realworld/model/response/common/ErrorResultDto.java\n",
      "file://D:/code/realworld-mdd/src/main/java/cn/hylstudio/mdse/demo/realworld/model/response/common/ErrorResultPayload.java\n",
      "file://D:/code/realworld-mdd/src/main/java/cn/hylstudio/mdse/demo/realworld/model/response/ResponsePayload.java\n",
      "file://D:/code/realworld-mdd/src/main/java/cn/hylstudio/mdse/demo/realworld/config/interceptor/AuthInterceptor.java\n",
      "file://D:/code/realworld-mdd/src/main/java/cn/hylstudio/mdse/demo/realworld/config/interceptor/PublicInterceptor.java\n",
      "file://D:/code/realworld-mdd/src/main/java/cn/hylstudio/mdse/demo/realworld/config/WebConfig.java\n",
      "file://D:/code/realworld-mdd/src/main/java/cn/hylstudio/mdse/demo/realworld/entity/mysql/RealWorldUser.java\n",
      "file://D:/code/realworld-mdd/src/main/java/cn/hylstudio/mdse/demo/realworld/service/user/impl/BizUserServiceImpl.java\n",
      "file://D:/code/realworld-mdd/src/main/java/cn/hylstudio/mdse/demo/realworld/service/user/impl/BaseUserServiceImpl.java\n",
      "file://D:/code/realworld-mdd/src/main/java/cn/hylstudio/mdse/demo/realworld/service/user/IBizUserService.java\n",
      "file://D:/code/realworld-mdd/src/main/java/cn/hylstudio/mdse/demo/realworld/service/user/IBaseUserService.java\n",
      "file://D:/code/realworld-mdd/src/main/java/cn/hylstudio/mdse/demo/realworld/service/login/impl/BizLoginServiceImpl.java\n",
      "file://D:/code/realworld-mdd/src/main/java/cn/hylstudio/mdse/demo/realworld/service/login/IBizLoginService.java\n",
      "file://D:/code/realworld-mdd/src/main/java/cn/hylstudio/mdse/demo/realworld/exception/BizException.java\n",
      "file://D:/code/realworld-mdd/src/main/java/cn/hylstudio/mdse/demo/realworld/exception/AuthException.java\n",
      "file://D:/code/realworld-mdd/src/main/java/cn/hylstudio/mdse/demo/realworld/controller/user/UserController.java\n",
      "file://D:/code/realworld-mdd/src/main/java/cn/hylstudio/mdse/demo/realworld/controller/user/UsersController.java\n",
      "file://D:/code/realworld-mdd/src/main/java/cn/hylstudio/mdse/demo/realworld/controller/BaseController.java\n",
      "file://D:/code/realworld-mdd/src/main/java/cn/hylstudio/mdse/demo/realworld/Constants.java\n",
      "file://D:/code/realworld-mdd/src/main/java/cn/hylstudio/mdse/demo/realworld/ContextHolder.java\n",
      "file://D:/code/realworld-mdd/src/main/java/cn/hylstudio/mdse/demo/realworld/RealworldApplication.java\n",
      "file://D:/code/realworld-mdd/src/test/java/cn/hylstudio/mdse/demo/realworld/service/login/impl/BizLoginServiceImplTest.java\n",
      "file://D:/code/realworld-mdd/src/test/java/cn/hylstudio/mdse/demo/realworld/RealworldApplicationTests.java\n"
     ]
    }
   ],
   "source": [
    "getCurrentProject()?.scanJavaFiles{module,rootDir,i,size,file->\n",
    "    println(\"$file\")\n",
    "}"
   ]
  },
  {
   "cell_type": "markdown",
   "id": "bee3e344-94fb-432e-b80a-2da5b95f73f7",
   "metadata": {},
   "source": [
    "# DataContext操作"
   ]
  },
  {
   "cell_type": "code",
   "execution_count": 16,
   "id": "c70143ab-8200-426e-bc09-d9ae21aa8941",
   "metadata": {
    "collapsed": true,
    "jupyter": {
     "outputs_hidden": true
    }
   },
   "outputs": [
    {
     "data": {
      "text/plain": [
       "component=com.intellij.openapi.wm.impl.IdeFrameImpl[frame0,260,20,1400x992,invalid,layout=java.awt.BorderLayout,title=realworld-mdd,resizable,normal,defaultCloseOperation=DO_NOTHING_ON_CLOSE,rootPane=com.intellij.openapi.wm.impl.IdeRootPane[,8,0,1384x984,layout=com.intellij.openapi.wm.impl.IdeRootPane$MyRootLayout,alignmentX=0.0,alignmentY=0.0,border=,flags=449,maximumSize=,minimumSize=,preferredSize=],rootPaneCheckingEnabled=true]"
      ]
     },
     "execution_count": 16,
     "metadata": {},
     "output_type": "execute_result"
    }
   ],
   "source": [
    "getDataContext()"
   ]
  },
  {
   "cell_type": "code",
   "execution_count": 18,
   "id": "d7a14669-0c64-4992-a92a-740747244d98",
   "metadata": {},
   "outputs": [
    {
     "data": {
      "text/plain": [
       "PsiClass:RealworldApplication"
      ]
     },
     "execution_count": 18,
     "metadata": {},
     "output_type": "execute_result"
    }
   ],
   "source": [
    "getDataContext()?.currentPsiElement"
   ]
  },
  {
   "cell_type": "code",
   "execution_count": 19,
   "id": "3d430ea3-4b49-49a8-b2cf-012cc40b5dc1",
   "metadata": {},
   "outputs": [
    {
     "data": {
      "text/plain": [
       "PsiJavaFile:RealworldApplication.java"
      ]
     },
     "execution_count": 19,
     "metadata": {},
     "output_type": "execute_result"
    }
   ],
   "source": [
    "getDataContext()?.currentPsiFile"
   ]
  },
  {
   "cell_type": "code",
   "execution_count": 20,
   "id": "73da8398-c3f9-44f5-8fb6-883daca68fe7",
   "metadata": {},
   "outputs": [
    {
     "data": {
      "text/plain": [
       "Caret at VisualPosition: (8, 42), selection marker: RangeMarker(339,339) 133"
      ]
     },
     "execution_count": 20,
     "metadata": {},
     "output_type": "execute_result"
    }
   ],
   "source": [
    "getDataContext()?.caret"
   ]
  },
  {
   "cell_type": "code",
   "execution_count": 21,
   "id": "efd41c67-4ac1-4708-9c7e-687d00ec8dc2",
   "metadata": {},
   "outputs": [
    {
     "data": {
      "text/plain": [
       "[PsiClass:RealworldApplication]"
      ]
     },
     "execution_count": 21,
     "metadata": {},
     "output_type": "execute_result"
    }
   ],
   "source": [
    "getDataContext()?.currentPsiFile?.psiClasses"
   ]
  },
  {
   "cell_type": "code",
   "execution_count": 22,
   "id": "1e3c0230-ae2f-4fab-bd53-3f4d218a0534",
   "metadata": {},
   "outputs": [
    {
     "data": {
      "text/plain": [
       "PsiClass:RealworldApplication"
      ]
     },
     "execution_count": 22,
     "metadata": {},
     "output_type": "execute_result"
    }
   ],
   "source": [
    "getDataContext()?.currentPsiFile?.psiClass"
   ]
  },
  {
   "cell_type": "code",
   "execution_count": 47,
   "id": "56e597c4-a4f5-4f6b-9c8a-fb5fab93e4c7",
   "metadata": {},
   "outputs": [
    {
     "data": {
      "text/plain": [
       "PsiLocalVariable:a"
      ]
     },
     "execution_count": 47,
     "metadata": {},
     "output_type": "execute_result"
    }
   ],
   "source": [
    "getDataContext()?.currentPsiFile?.currentPsiElement"
   ]
  },
  {
   "cell_type": "code",
   "execution_count": 48,
   "id": "98a85fe4-d7d6-4de4-a031-9ab0cbdb179b",
   "metadata": {},
   "outputs": [
    {
     "data": {
      "text/plain": [
       "PsiMethod:main"
      ]
     },
     "execution_count": 48,
     "metadata": {},
     "output_type": "execute_result"
    }
   ],
   "source": [
    "getDataContext()?.currentPsiElement?.containingMethod"
   ]
  },
  {
   "cell_type": "code",
   "execution_count": 49,
   "id": "8e0a0deb-f06a-416f-a145-ab2905fee7ba",
   "metadata": {},
   "outputs": [
    {
     "data": {
      "text/plain": [
       "PsiClass:RealworldApplication"
      ]
     },
     "execution_count": 49,
     "metadata": {},
     "output_type": "execute_result"
    }
   ],
   "source": [
    "getDataContext()?.currentPsiElement?.containingClass"
   ]
  },
  {
   "cell_type": "code",
   "execution_count": 50,
   "id": "36776f27-1bbe-4a5a-9bf0-a93f3c1ff694",
   "metadata": {},
   "outputs": [
    {
     "data": {
      "text/plain": [
       "PsiJavaFile:RealworldApplication.java"
      ]
     },
     "execution_count": 50,
     "metadata": {},
     "output_type": "execute_result"
    }
   ],
   "source": [
    "getDataContext()?.currentPsiElement?.containingFile"
   ]
  },
  {
   "cell_type": "code",
   "execution_count": 51,
   "id": "a2563ca7-ad1f-4fb7-8b83-ff84a95f250f",
   "metadata": {},
   "outputs": [
    {
     "data": {
      "text/plain": [
       "10"
      ]
     },
     "execution_count": 51,
     "metadata": {},
     "output_type": "execute_result"
    }
   ],
   "source": [
    "getDataContext()?.currentPsiElement?.lineNumber"
   ]
  },
  {
   "cell_type": "code",
   "execution_count": 52,
   "id": "1af1c8a2-7d5f-4bcf-a773-d8c6b082c894",
   "metadata": {},
   "outputs": [
    {
     "data": {
      "text/plain": [
       "PsiLocalVariable:a"
      ]
     },
     "execution_count": 52,
     "metadata": {},
     "output_type": "execute_result"
    }
   ],
   "source": [
    "val tmp = getDataContext()?.currentPsiElement\n",
    "tmp"
   ]
  },
  {
   "cell_type": "code",
   "execution_count": 38,
   "id": "8862f62e-f892-4701-a294-1b0454c74494",
   "metadata": {},
   "outputs": [],
   "source": [
    "tmp.requestFocus()"
   ]
  },
  {
   "cell_type": "code",
   "execution_count": 53,
   "id": "d370664c-4219-4c41-94d1-d1aed5e847a5",
   "metadata": {},
   "outputs": [
    {
     "data": {
      "text/plain": [
       "PsiClass:RealworldApplication"
      ]
     },
     "execution_count": 53,
     "metadata": {},
     "output_type": "execute_result"
    }
   ],
   "source": [
    "val testClass = getDataContext()?.currentPsiElement?.containingClass\n",
    "testClass"
   ]
  },
  {
   "cell_type": "code",
   "execution_count": 54,
   "id": "068bf1ad-17fe-4d40-b8f9-1a53b474873f",
   "metadata": {},
   "outputs": [
    {
     "data": {
      "text/plain": [
       "[PsiAnnotation]"
      ]
     },
     "execution_count": 54,
     "metadata": {},
     "output_type": "execute_result"
    }
   ],
   "source": [
    "testClass?.psiAnnotations"
   ]
  },
  {
   "cell_type": "code",
   "execution_count": 55,
   "id": "516b49f1-9651-4093-a838-ddcf1f1a47e4",
   "metadata": {},
   "outputs": [
    {
     "data": {
      "text/plain": [
       "[]"
      ]
     },
     "execution_count": 55,
     "metadata": {},
     "output_type": "execute_result"
    }
   ],
   "source": [
    "testClass?.psiAnnotations!![0].attributes"
   ]
  },
  {
   "cell_type": "code",
   "execution_count": 56,
   "id": "f3380401-0a01-404d-a424-84f458e75544",
   "metadata": {},
   "outputs": [
    {
     "data": {
      "text/plain": [
       "[]"
      ]
     },
     "execution_count": 56,
     "metadata": {},
     "output_type": "execute_result"
    }
   ],
   "source": [
    "testClass?.psiAnnotations!![0].attributes.map{it?.attributeValue?.parseValue()}"
   ]
  },
  {
   "cell_type": "markdown",
   "id": "c3b3f61d-1ab1-4021-95aa-b1dd128c9689",
   "metadata": {},
   "source": [
    "# 其他各种manager"
   ]
  },
  {
   "cell_type": "code",
   "execution_count": 7,
   "id": "e525b495-881b-4e67-8db1-ee110f19aa96",
   "metadata": {},
   "outputs": [
    {
     "data": {
      "text/plain": [
       "{}"
      ]
     },
     "execution_count": 7,
     "metadata": {},
     "output_type": "execute_result"
    }
   ],
   "source": [
    "getCurrentProject()?.psiManager"
   ]
  },
  {
   "cell_type": "code",
   "execution_count": 8,
   "id": "aa0f0410-481c-4169-8e4e-b5d0656fdab1",
   "metadata": {
    "scrolled": true
   },
   "outputs": [
    {
     "data": {
      "text/plain": [
       "com.intellij.openapi.fileEditor.impl.PsiAwareFileEditorManagerImpl@5d1cd85b"
      ]
     },
     "execution_count": 8,
     "metadata": {},
     "output_type": "execute_result"
    }
   ],
   "source": [
    "getCurrentProject()?.fileEditorManager"
   ]
  },
  {
   "cell_type": "code",
   "execution_count": 10,
   "id": "b790f3c5-1cb2-483f-a4ae-e31c1bd2e3b9",
   "metadata": {},
   "outputs": [
    {
     "data": {
      "text/plain": [
       "com.intellij.util.xml.impl.DomManagerImpl@2ddc591a"
      ]
     },
     "execution_count": 10,
     "metadata": {},
     "output_type": "execute_result"
    }
   ],
   "source": [
    "getCurrentProject()?.domManager"
   ]
  }
 ],
 "metadata": {
  "kernelspec": {
   "display_name": "Kotlin (skykoma-agent-idea)",
   "language": "kotlin",
   "name": "kotlin_skykoma-agent-idea"
  },
  "language_info": {
   "codemirror_mode": "text/x-kotlin",
   "file_extension": ".kt",
   "mimetype": "text/x-kotlin",
   "name": "kotlin",
   "nbconvert_exporter": "",
   "pygments_lexer": "kotlin",
   "version": "1.8.20"
  }
 },
 "nbformat": 4,
 "nbformat_minor": 5
}
