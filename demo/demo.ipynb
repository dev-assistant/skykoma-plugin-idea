{
 "cells": [
  {
   "cell_type": "code",
   "execution_count": 1,
   "id": "b3327ea8-3a21-4507-bf37-5f7374cec6a2",
   "metadata": {},
   "outputs": [
    {
     "name": "stdout",
     "output_type": "stream",
     "text": [
      "Do not use URL connection as JarURLConnection\n",
      "Do not use URL connection as JarURLConnection\n",
      "Do not use URL connection as JarURLConnection\n",
      "Do not use URL connection as JarURLConnection\n",
      "Do not use URL connection as JarURLConnection\n",
      "succ\n"
     ]
    }
   ],
   "source": [
    "import cn.hylstudio.skykoma.plugin.idea.util.*\n",
    "println(\"succ\")"
   ]
  },
  {
   "cell_type": "code",
   "execution_count": 2,
   "id": "a50c007f-51c4-4f4d-9e77-b15b74d2dd62",
   "metadata": {},
   "outputs": [
    {
     "data": {
      "text/plain": [
       "Project(name=skykoma-plugin-idea, containerState=COMPONENT_CREATED, componentStore=E:\\code\\skykoma-plugin-idea)"
      ]
     },
     "execution_count": 2,
     "metadata": {},
     "output_type": "execute_result"
    }
   ],
   "source": [
    "getCurrentProject()"
   ]
  },
  {
   "cell_type": "code",
   "execution_count": 19,
   "id": "c4811171-abf5-4e68-b7c6-330ee2daac58",
   "metadata": {},
   "outputs": [
    {
     "name": "stdout",
     "output_type": "stream",
     "text": [
      "exec error, cmd = git -C E:/code/skykoma-plugin-idea rev-parse --abbrev-ref HEAD, e = Cannot run program \"git\": CreateProcess error=2, 系统找不到指定的文件。\n",
      "exec error, cmd = git -C E:/code/skykoma-plugin-idea rev-parse HEAD, e = Cannot run program \"git\": CreateProcess error=2, 系统找不到指定的文件。\n",
      "projectName:skykoma-plugin-idea, basePath:E:/code/skykoma-plugin-idea, projectDirName:skykoma-plugin-idea\n",
      "currentBranch:, currentHash:\n",
      "\n"
     ]
    }
   ],
   "source": [
    "getCurrentProject()?.printInfo()"
   ]
  },
  {
   "cell_type": "code",
   "execution_count": 9,
   "id": "19e178a7-ab22-4613-b3f0-4466e04f3416",
   "metadata": {},
   "outputs": [
    {
     "data": {
      "text/plain": [
       "[Project(name=skykoma-plugin-idea, containerState=COMPONENT_CREATED, componentStore=E:\\code\\skykoma-plugin-idea)]"
      ]
     },
     "execution_count": 9,
     "metadata": {},
     "output_type": "execute_result"
    }
   ],
   "source": [
    "getOpenedProjects()"
   ]
  },
  {
   "cell_type": "code",
   "execution_count": 10,
   "id": "73a556c0-b5de-48d2-8efc-3d568f21a0f6",
   "metadata": {},
   "outputs": [
    {
     "data": {
      "text/plain": [
       "Project(name=skykoma-plugin-idea, containerState=COMPONENT_CREATED, componentStore=E:\\code\\skykoma-plugin-idea)"
      ]
     },
     "execution_count": 10,
     "metadata": {},
     "output_type": "execute_result"
    }
   ],
   "source": [
    "filterProjectByName(\"skykoma-plugin-idea\")"
   ]
  },
  {
   "cell_type": "code",
   "execution_count": 21,
   "id": "d41325d3-21ae-4766-ad1e-57585b86a3fd",
   "metadata": {},
   "outputs": [],
   "source": [
    "filterProjectByName(\"skykoma-plugin-idea\")?.requestFocus()"
   ]
  },
  {
   "cell_type": "code",
   "execution_count": 13,
   "id": "e525b495-881b-4e67-8db1-ee110f19aa96",
   "metadata": {},
   "outputs": [
    {
     "data": {
      "text/plain": [
       "{UNBOUNDED_WILDCARD=PsiType:?}"
      ]
     },
     "execution_count": 13,
     "metadata": {},
     "output_type": "execute_result"
    }
   ],
   "source": [
    "getCurrentProject()?.psiManager"
   ]
  },
  {
   "cell_type": "code",
   "execution_count": 11,
   "id": "aa0f0410-481c-4169-8e4e-b5d0656fdab1",
   "metadata": {},
   "outputs": [
    {
     "data": {
      "text/plain": [
       "com.intellij.openapi.fileEditor.impl.PsiAwareFileEditorManagerImpl@22973f8a"
      ]
     },
     "execution_count": 11,
     "metadata": {},
     "output_type": "execute_result"
    }
   ],
   "source": [
    "getCurrentProject()?.fileEditorManager"
   ]
  },
  {
   "cell_type": "code",
   "execution_count": 14,
   "id": "1d77ec3f-2d57-4624-a123-fbd3eddd4df9",
   "metadata": {},
   "outputs": [
    {
     "data": {
      "text/plain": [
       "com.intellij.workspaceModel.ide.impl.legacyBridge.module.ModuleManagerComponentBridge@79d771cc"
      ]
     },
     "execution_count": 14,
     "metadata": {},
     "output_type": "execute_result"
    }
   ],
   "source": [
    "getCurrentProject()?.moduleManager"
   ]
  },
  {
   "cell_type": "code",
   "execution_count": 15,
   "id": "b790f3c5-1cb2-483f-a4ae-e31c1bd2e3b9",
   "metadata": {},
   "outputs": [
    {
     "data": {
      "text/plain": [
       "com.intellij.util.xml.impl.DomManagerImpl@6044d6cc"
      ]
     },
     "execution_count": 15,
     "metadata": {},
     "output_type": "execute_result"
    }
   ],
   "source": [
    "getCurrentProject()?.domManager"
   ]
  },
  {
   "cell_type": "code",
   "execution_count": 16,
   "id": "76f7d3d7-b927-46dd-8b1e-63bfcfb70359",
   "metadata": {},
   "outputs": [
    {
     "data": {
      "text/plain": [
       "[Module: 'skykoma-plugin-idea', Module: 'skykoma-plugin-idea.main', Module: 'skykoma-plugin-idea.test']"
      ]
     },
     "execution_count": 16,
     "metadata": {},
     "output_type": "execute_result"
    }
   ],
   "source": [
    "getCurrentProject()?.modules"
   ]
  },
  {
   "cell_type": "code",
   "execution_count": 25,
   "id": "080c7c82-f7ce-421c-9656-066a0ec32b29",
   "metadata": {},
   "outputs": [
    {
     "name": "stdout",
     "output_type": "stream",
     "text": [
      "file://E:/code/skykoma-plugin-idea/src/main/java/cn/hylstudio/skykoma/plugin/idea/util/LogUtils.java\n",
      "file://E:/code/skykoma-plugin-idea/src/main/java/cn/hylstudio/skykoma/plugin/idea/util/PsiUtils.java\n",
      "file://E:/code/skykoma-plugin-idea/src/main/java/cn/hylstudio/skykoma/plugin/idea/util/GsonUtils.java\n",
      "file://E:/code/skykoma-plugin-idea/src/main/java/cn/hylstudio/skykoma/plugin/idea/util/ProjectUtils.java\n",
      "file://E:/code/skykoma-plugin-idea/src/main/java/cn/hylstudio/skykoma/plugin/idea/util/SkykomaNotifier.java\n",
      "file://E:/code/skykoma-plugin-idea/src/main/java/cn/hylstudio/skykoma/plugin/idea/model/result/BizCode.java\n",
      "file://E:/code/skykoma-plugin-idea/src/main/java/cn/hylstudio/skykoma/plugin/idea/model/result/JsonResult.java\n",
      "file://E:/code/skykoma-plugin-idea/src/main/java/cn/hylstudio/skykoma/plugin/idea/model/payload/UploadProjectPayload.java\n",
      "file://E:/code/skykoma-plugin-idea/src/main/java/cn/hylstudio/skykoma/plugin/idea/model/payload/ProjectInfoQueryPayload.java\n",
      "file://E:/code/skykoma-plugin-idea/src/main/java/cn/hylstudio/skykoma/plugin/idea/model/FileDto.java\n",
      "file://E:/code/skykoma-plugin-idea/src/main/java/cn/hylstudio/skykoma/plugin/idea/model/ModuleDto.java\n",
      "file://E:/code/skykoma-plugin-idea/src/main/java/cn/hylstudio/skykoma/plugin/idea/model/VCSEntityDto.java\n",
      "file://E:/code/skykoma-plugin-idea/src/main/java/cn/hylstudio/skykoma/plugin/idea/model/ModuleRootDto.java\n",
      "file://E:/code/skykoma-plugin-idea/src/main/java/cn/hylstudio/skykoma/plugin/idea/model/ProjectInfoDto.java\n",
      "file://E:/code/skykoma-plugin-idea/src/main/java/cn/hylstudio/skykoma/plugin/idea/action/UpdateProjectInfoAction.java\n",
      "file://E:/code/skykoma-plugin-idea/src/main/java/cn/hylstudio/skykoma/plugin/idea/config/IdeaPluginSettingsDialog.java\n",
      "file://E:/code/skykoma-plugin-idea/src/main/java/cn/hylstudio/skykoma/plugin/idea/config/IdeaPluginCodeGenSettingsDialog.java\n",
      "file://E:/code/skykoma-plugin-idea/src/main/java/cn/hylstudio/skykoma/plugin/idea/service/impl/HttpServiceImpl.java\n",
      "file://E:/code/skykoma-plugin-idea/src/main/java/cn/hylstudio/skykoma/plugin/idea/service/impl/ProjectInfoServiceImpl.java\n",
      "file://E:/code/skykoma-plugin-idea/src/main/java/cn/hylstudio/skykoma/plugin/idea/service/impl/IdeaPluginAgentServerImpl.java\n",
      "file://E:/code/skykoma-plugin-idea/src/main/java/cn/hylstudio/skykoma/plugin/idea/service/verticle/AgentHttpApiVerticle.java\n",
      "file://E:/code/skykoma-plugin-idea/src/main/java/cn/hylstudio/skykoma/plugin/idea/service/IHttpService.java\n",
      "file://E:/code/skykoma-plugin-idea/src/main/java/cn/hylstudio/skykoma/plugin/idea/service/IProjectInfoService.java\n",
      "file://E:/code/skykoma-plugin-idea/src/main/java/cn/hylstudio/skykoma/plugin/idea/service/IdeaPluginAgentServer.java\n",
      "file://E:/code/skykoma-plugin-idea/src/main/java/cn/hylstudio/skykoma/plugin/idea/listener/SkykomaBulkFileListener.java\n",
      "file://E:/code/skykoma-plugin-idea/src/main/java/cn/hylstudio/skykoma/plugin/idea/listener/ProjectOpenCloseListener.java\n",
      "file://E:/code/skykoma-plugin-idea/src/main/java/cn/hylstudio/skykoma/plugin/idea/listener/SkykomaVirtualFileListener.java\n",
      "file://E:/code/skykoma-plugin-idea/src/main/java/cn/hylstudio/skykoma/plugin/idea/listener/SkykomaPsiTreeChangeListener.java\n",
      "file://E:/code/skykoma-plugin-idea/src/main/java/cn/hylstudio/skykoma/plugin/idea/listener/SkykomaProjectOpenForSmartModeListener.java\n",
      "file://E:/code/skykoma-plugin-idea/src/main/java/cn/hylstudio/skykoma/plugin/idea/listener/SkykomaProjectOpenForBackgroundTaskListener.java\n",
      "file://E:/code/skykoma-plugin-idea/src/main/java/cn/hylstudio/skykoma/plugin/idea/livetmpl/GenAllSetterByParamMacro.java\n",
      "file://E:/code/skykoma-plugin-idea/src/main/java/cn/hylstudio/skykoma/plugin/idea/livetmpl/GenCreateTableSqlDDLMacro.java\n",
      "file://E:/code/skykoma-plugin-idea/src/main/java/cn/hylstudio/skykoma/plugin/idea/livetmpl/GenLogBeforeCurrentLineMacro.java\n",
      "file://E:/code/skykoma-plugin-idea/src/main/java/cn/hylstudio/skykoma/plugin/idea/serializer/BasePsiSerializer.java\n",
      "file://E:/code/skykoma-plugin-idea/src/main/java/cn/hylstudio/skykoma/plugin/idea/serializer/PsiElementSerializer.java\n",
      "file://E:/code/skykoma-plugin-idea/src/main/java/cn/hylstudio/skykoma/plugin/idea/serializer/IntellijExclusionStrategy.java\n",
      "file://E:/code/skykoma-plugin-idea/src/main/java/cn/hylstudio/skykoma/plugin/idea/SkykomaConstants.java\n"
     ]
    }
   ],
   "source": [
    "getCurrentProject()?.scanJavaFiles{module,rootDir,i,size,file->\n",
    "    println(\"$file\")\n",
    "}"
   ]
  },
  {
   "cell_type": "code",
   "execution_count": 23,
   "id": "25955748-8bb6-4934-9cb8-915d7b2ae943",
   "metadata": {},
   "outputs": [
    {
     "name": "stdout",
     "output_type": "stream",
     "text": [
      "moduleName:skykoma-plugin-idea.main\n",
      "sourceRoots:[file://E:/code/skykoma-plugin-idea/src/main/java, file://E:/code/skykoma-plugin-idea/src/main/kotlin, file://E:/code/skykoma-plugin-idea/build/generated/sources/annotationProcessor/java/main],testSrcRoots:[],resourceRoots:[file://E:/code/skykoma-plugin-idea/src/main/resources],testResourceRoots:[]\n"
     ]
    }
   ],
   "source": [
    "getCurrentProject()?.modules!![1].printInfo()"
   ]
  },
  {
   "cell_type": "code",
   "execution_count": 4,
   "id": "c70143ab-8200-426e-bc09-d9ae21aa8941",
   "metadata": {},
   "outputs": [
    {
     "data": {
      "text/plain": [
       "component=EditorComponent file=file://E:/code/skykoma-plugin-idea/src/main/java/cn/hylstudio/skykoma/plugin/idea/service/impl/IdeaPluginAgentServerImpl.java"
      ]
     },
     "execution_count": 4,
     "metadata": {},
     "output_type": "execute_result"
    }
   ],
   "source": [
    "getDataContext()"
   ]
  },
  {
   "cell_type": "code",
   "execution_count": 6,
   "id": "d7a14669-0c64-4992-a92a-740747244d98",
   "metadata": {},
   "outputs": [
    {
     "data": {
      "text/plain": [
       "PsiLocalVariable:propertiesComponent"
      ]
     },
     "execution_count": 6,
     "metadata": {},
     "output_type": "execute_result"
    }
   ],
   "source": [
    "getDataContext()?.currentPsiElement"
   ]
  },
  {
   "cell_type": "code",
   "execution_count": 8,
   "id": "3d430ea3-4b49-49a8-b2cf-012cc40b5dc1",
   "metadata": {},
   "outputs": [
    {
     "data": {
      "text/plain": [
       "PsiJavaFile:IdeaPluginAgentServerImpl.java"
      ]
     },
     "execution_count": 8,
     "metadata": {},
     "output_type": "execute_result"
    }
   ],
   "source": [
    "getDataContext()?.currentPsiFile"
   ]
  },
  {
   "cell_type": "code",
   "execution_count": 7,
   "id": "73da8398-c3f9-44f5-8fb6-883daca68fe7",
   "metadata": {},
   "outputs": [
    {
     "data": {
      "text/plain": [
       "Caret at VisualPosition: (101, 47), selection marker: RangeMarker(7868,7868) 6127"
      ]
     },
     "execution_count": 7,
     "metadata": {},
     "output_type": "execute_result"
    }
   ],
   "source": [
    "getDataContext()?.caret"
   ]
  },
  {
   "cell_type": "code",
   "execution_count": 27,
   "id": "efd41c67-4ac1-4708-9c7e-687d00ec8dc2",
   "metadata": {},
   "outputs": [
    {
     "data": {
      "text/plain": [
       "[PsiClass:IdeaPluginAgentServerImpl]"
      ]
     },
     "execution_count": 27,
     "metadata": {},
     "output_type": "execute_result"
    }
   ],
   "source": [
    "getDataContext()?.currentPsiFile?.psiClasses"
   ]
  },
  {
   "cell_type": "code",
   "execution_count": 28,
   "id": "1e3c0230-ae2f-4fab-bd53-3f4d218a0534",
   "metadata": {},
   "outputs": [
    {
     "data": {
      "text/plain": [
       "PsiClass:IdeaPluginAgentServerImpl"
      ]
     },
     "execution_count": 28,
     "metadata": {},
     "output_type": "execute_result"
    }
   ],
   "source": [
    "getDataContext()?.currentPsiFile?.psiClass"
   ]
  },
  {
   "cell_type": "code",
   "execution_count": 30,
   "id": "56e597c4-a4f5-4f6b-9c8a-fb5fab93e4c7",
   "metadata": {},
   "outputs": [
    {
     "data": {
      "text/plain": [
       "PsiLocalVariable:jupyterControlPort"
      ]
     },
     "execution_count": 30,
     "metadata": {},
     "output_type": "execute_result"
    }
   ],
   "source": [
    "getDataContext()?.currentPsiFile?.currentPsiElement"
   ]
  },
  {
   "cell_type": "code",
   "execution_count": 32,
   "id": "98a85fe4-d7d6-4de4-a031-9ab0cbdb179b",
   "metadata": {},
   "outputs": [
    {
     "data": {
      "text/plain": [
       "PsiMethod:genRegisterKernelCmd"
      ]
     },
     "execution_count": 32,
     "metadata": {},
     "output_type": "execute_result"
    }
   ],
   "source": [
    "getDataContext()?.currentPsiElement?.containingMethod"
   ]
  },
  {
   "cell_type": "code",
   "execution_count": 33,
   "id": "8e0a0deb-f06a-416f-a145-ab2905fee7ba",
   "metadata": {},
   "outputs": [
    {
     "data": {
      "text/plain": [
       "PsiClass:IdeaPluginAgentServerImpl"
      ]
     },
     "execution_count": 33,
     "metadata": {},
     "output_type": "execute_result"
    }
   ],
   "source": [
    "getDataContext()?.currentPsiElement?.containingClass"
   ]
  },
  {
   "cell_type": "code",
   "execution_count": 34,
   "id": "36776f27-1bbe-4a5a-9bf0-a93f3c1ff694",
   "metadata": {},
   "outputs": [
    {
     "data": {
      "text/plain": [
       "PsiJavaFile:IdeaPluginAgentServerImpl.java"
      ]
     },
     "execution_count": 34,
     "metadata": {},
     "output_type": "execute_result"
    }
   ],
   "source": [
    "getDataContext()?.currentPsiElement?.containingFile"
   ]
  },
  {
   "cell_type": "code",
   "execution_count": 35,
   "id": "a2563ca7-ad1f-4fb7-8b83-ff84a95f250f",
   "metadata": {},
   "outputs": [
    {
     "data": {
      "text/plain": [
       "136"
      ]
     },
     "execution_count": 35,
     "metadata": {},
     "output_type": "execute_result"
    }
   ],
   "source": [
    "getDataContext()?.currentPsiElement?.lineNumber"
   ]
  },
  {
   "cell_type": "code",
   "execution_count": 40,
   "id": "1af1c8a2-7d5f-4bcf-a773-d8c6b082c894",
   "metadata": {},
   "outputs": [
    {
     "data": {
      "text/plain": [
       "PsiLocalVariable:a"
      ]
     },
     "execution_count": 40,
     "metadata": {},
     "output_type": "execute_result"
    }
   ],
   "source": [
    "val tmp = getDataContext()?.currentPsiElement\n",
    "tmp"
   ]
  },
  {
   "cell_type": "code",
   "execution_count": 38,
   "id": "8862f62e-f892-4701-a294-1b0454c74494",
   "metadata": {},
   "outputs": [],
   "source": [
    "tmp.requestFocus()"
   ]
  },
  {
   "cell_type": "code",
   "execution_count": 46,
   "id": "d370664c-4219-4c41-94d1-d1aed5e847a5",
   "metadata": {},
   "outputs": [
    {
     "data": {
      "text/plain": [
       "PsiClass:Test"
      ]
     },
     "execution_count": 46,
     "metadata": {},
     "output_type": "execute_result"
    }
   ],
   "source": [
    "val testClass = getDataContext()?.currentPsiElement?.containingClass\n",
    "testClass"
   ]
  },
  {
   "cell_type": "code",
   "execution_count": 47,
   "id": "068bf1ad-17fe-4d40-b8f9-1a53b474873f",
   "metadata": {},
   "outputs": [
    {
     "data": {
      "text/plain": [
       "[PsiAnnotation]"
      ]
     },
     "execution_count": 47,
     "metadata": {},
     "output_type": "execute_result"
    }
   ],
   "source": [
    "testClass?.psiAnnotations"
   ]
  },
  {
   "cell_type": "code",
   "execution_count": 51,
   "id": "516b49f1-9651-4093-a838-ddcf1f1a47e4",
   "metadata": {},
   "outputs": [
    {
     "data": {
      "text/plain": [
       "[PsiNameValuePair, PsiNameValuePair, PsiNameValuePair, PsiNameValuePair, PsiNameValuePair]"
      ]
     },
     "execution_count": 51,
     "metadata": {},
     "output_type": "execute_result"
    }
   ],
   "source": [
    "testClass?.psiAnnotations!![0].attributes"
   ]
  },
  {
   "cell_type": "code",
   "execution_count": 55,
   "id": "f3380401-0a01-404d-a424-84f458e75544",
   "metadata": {},
   "outputs": [
    {
     "data": {
      "text/plain": [
       "[{type=const, value=constValue}, {type=arr, value=[{type=const, value=constValue}]}, {type=enum, value=cn.hylstudio.skykoma.plugin.idea.TestEnum.a}, {type=arr, value=[{type=enum, value=cn.hylstudio.skykoma.plugin.idea.TestEnum.a}]}, {type=annotation, qualifiedName=cn.hylstudio.skykoma.plugin.idea.Annotation2, value={value={type=const, value=123}}}]"
      ]
     },
     "execution_count": 55,
     "metadata": {},
     "output_type": "execute_result"
    }
   ],
   "source": [
    "testClass?.psiAnnotations!![0].attributes.map{it?.attributeValue?.parseValue()}"
   ]
  }
 ],
 "metadata": {
  "kernelspec": {
   "display_name": "Kotlin (skykoma-agent-idea)",
   "language": "kotlin",
   "name": "kotlin_skykoma-agent-idea"
  },
  "language_info": {
   "codemirror_mode": "text/x-kotlin",
   "file_extension": ".kt",
   "mimetype": "text/x-kotlin",
   "name": "kotlin",
   "nbconvert_exporter": "",
   "pygments_lexer": "kotlin",
   "version": "1.8.20"
  }
 },
 "nbformat": 4,
 "nbformat_minor": 5
}
